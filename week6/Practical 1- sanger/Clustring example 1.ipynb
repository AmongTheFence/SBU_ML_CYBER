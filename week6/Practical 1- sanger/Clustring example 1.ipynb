{
  "nbformat": 4,
  "nbformat_minor": 0,
  "metadata": {
    "kernelspec": {
      "display_name": "Python 2",
      "language": "python",
      "name": "python2"
    },
    "language_info": {
      "codemirror_mode": {
        "name": "ipython",
        "version": 2
      },
      "file_extension": ".py",
      "mimetype": "text/x-python",
      "name": "python",
      "nbconvert_exporter": "python",
      "pygments_lexer": "ipython2",
      "version": "2.7.5"
    },
    "colab": {
      "name": "Unsupervised Learning.ipynb",
      "provenance": []
    }
  },
  "cells": [
    {
      "cell_type": "markdown",
      "metadata": {
        "id": "oaIBbmy_m1cK"
      },
      "source": [
        "# Unsupervised Learning"
      ]
    },
    {
      "cell_type": "markdown",
      "metadata": {
        "id": "_32y1mjim1cL"
      },
      "source": [
        "## Introduction\n",
        "\n",
        "*Unsupervised learning* refers to machine learning techniques where we do not give the learning algorithm a target output (e.g. a set of expected classifications of the data). Instead, the algorithm must interpret the data entirely on its own, without any supervision from the user. Unsupervised learning is useful when we don't have access to pre-labelled data (e.g. this set of measurements corresponds to a faulty unit, and this other set of measurements corresponds to a funcitoning unit), or when we're more interested in exploring what trends exist in data (including those we may not even know about). However, the distinctions drawn in unsupervised learning tend to be less clear-cut than in supervised learning, and often involve more subjectivity in choice of parameters.\n",
        "\n",
        "Applications of unsupervised learning in the context of systems administration include:\n",
        "* Automated detection of abnormal events in logs\n",
        "* Automated detection of anomalies time series data\n",
        " * e.g. a spike in write latency on a NetApp that might indicate an errant job\n",
        "* Learned models of a system, which can then be used for prediction\n",
        " * e.g. a learned model of PUE from machine load, outside air temperature etc. that can then be used to investigate the effect of making a change to one of the variable (see Google's [Better data centers through machine learning](http://googleblog.blogspot.co.uk/2014/05/better-data-centers-through-machine.html))"
      ]
    },
    {
      "cell_type": "markdown",
      "metadata": {
        "id": "9kEXlf2Rm1cL"
      },
      "source": [
        "## Anomaly Detection\n",
        "\n",
        "For this workshop, we'll be focusing on a simple example of time series anomaly detection.\n",
        "\n",
        "This example is based on Chapter 4, *More Complex, Adaptive Models* from [Practical Machine Learning](https://www.safaribooksonline.com/library/view/practical-machine-learning/9781491914151/ch04.html) by Ted Dunning and Ellen Friedman.\n",
        "\n",
        "\n",
        "### Waveform Space\n",
        "\n",
        "To apply such a technique to waveforms, we'll need to decide how we're going to define the space in which clusters will be formed.\n",
        "\n",
        "First, we'll need to split the waveform into segments to give us separate \"samples\". But what will our *features* be - what are the variables that will define the *n*-dimensional space? We could go with standard measurements of each segment such as maximum, minimum and spread. But since our technique is generalisable to any number of dimensions, we can do something a bit more clever: we can take each element of the segment as a separate dimension. For a segment containing 32 time values, we define a 32-dimensional space. It is in this 32-dimensional space that we will form our clusters of waveform segments.\n",
        "\n",
        "### Waveform Anomaly Detection\n",
        "\n",
        "In the example of the power supplies, we detected anomalous samples based on the distance from clusters. For our waveforms, we're going to take a slightly different approach so that we can visualise what's going on.\n",
        "\n",
        "Consider our 32-dimensional waveform space. Each point in this space represents a possible waveform segment. Similar segments will cluster together. The middle of each cluster (the *centroid*) will provide some measure of the prototypical waveform pattern that all those segments are specific instances of. (If this is difficult to visualise, the other way to consider it is that the centroid is simply an average of all waveform samples in that cluster.)\n",
        "\n",
        "Note that the centroid, being a point in the waveform space, is itself a waveform. Thus, the cluster centroids provide us with a set of \"normal\" waveform segments.\n",
        "\n",
        "Suppose we then try to use our set of \"normal\" segments to reconstruct a set of data to be tested. If the data is similar in shape to what has come before it, we will be able to manage a good reconstruction. However, if the data contains some abnormal shape, we will not be able to reconstruct it using our normal shape library, and we will get a reconstruction error. This error will indicate an anomaly!\n",
        "\n",
        "In summary, our algorithm will be:\n",
        "\n",
        "**Training**:\n",
        "\n",
        "* Split waveform data into segments of *n* samples\n",
        "* Form a space in *n* dimensions, with each segment representing one point\n",
        "* Determine clustering of segment points, and determine the centres or *centroids* of the clusters\n",
        "* Cluster centroids provide library of \"normal\" waveform shapes\n",
        "\n",
        "**Testing**:\n",
        "\n",
        "* Try to reconstruct waveform data to be tested using cluster centroids learned during training\n",
        "* Poor reconstruction error on any individual segment indicates anomalous shape"
      ]
    },
    {
      "cell_type": "markdown",
      "metadata": {
        "id": "Uhcjoj2qm1cL"
      },
      "source": [
        "## Our Data Set"
      ]
    },
    {
      "cell_type": "markdown",
      "metadata": {
        "id": "cGAyZx1Am1cL"
      },
      "source": [
        "To explore anomaly detection, we'll be using an EKG data set from [PhysioNet](http://physionet.org/physiobank/database/apnea-ecg/), which is essentially the squishy version of the data we'll be getting from servers. Since this data has a very regular waveform, it provides a good vehicle for us to explore the algorithms without getting bogged down in the complications that come with real-world data.\n",
        "\n",
        "The data is supplied in the `a02.dat` file. A Python module `ekg_data.py` is provided to read the data."
      ]
    },
    {
      "cell_type": "markdown",
      "metadata": {
        "id": "WjZchxS0m1cT"
      },
      "source": [
        "## Exploring the Data"
      ]
    },
    {
      "cell_type": "markdown",
      "metadata": {
        "id": "FbWNMNe9m1cT"
      },
      "source": [
        "Let's get started by importing the EKG data module and examining what the data looks like:"
      ]
    },
    {
      "cell_type": "code",
      "metadata": {
        "id": "6HeRfIJdn2Yp"
      },
      "source": [
        "#upload ekg_data.py file as costum module\n",
        "from google.colab import files\n",
        "files.upload()"
      ],
      "execution_count": null,
      "outputs": []
    },
    {
      "cell_type": "code",
      "metadata": {
        "id": "vw4pFqTXm1cT"
      },
      "source": [
        "from __future__ import print_function\n",
        "import ekg_data\n",
        "\n"
      ],
      "execution_count": null,
      "outputs": []
    },
    {
      "cell_type": "markdown",
      "metadata": {
        "id": "_RN9gfb7m1cU"
      },
      "source": [
        "The data is provided as a one-dimensional list of floating-point samples:"
      ]
    },
    {
      "cell_type": "code",
      "metadata": {
        "id": "ORDQ-zAYoQxw"
      },
      "source": [
        "#upload a02.dat file\n",
        "files.upload()"
      ],
      "execution_count": null,
      "outputs": []
    },
    {
      "cell_type": "code",
      "metadata": {
        "id": "UrAH9YN8oJt4"
      },
      "source": [
        "ekg_filename = 'a02.dat'\n",
        "ekg_data = ekg_data.read_ekg_data(ekg_filename)\n",
        "print(ekg_data.shape)"
      ],
      "execution_count": null,
      "outputs": []
    },
    {
      "cell_type": "code",
      "metadata": {
        "id": "MFONWtAmm1cU"
      },
      "source": [
        "print(\"ekg_data[0]:\\t\", ekg_data[0])\n",
        "print(\"ekg_data[1]:\\t\", ekg_data[1])\n",
        "print(\"ekg_data.min:\\t\", ekg_data.min())\n",
        "print(\"ekg_data.max:\\t\", ekg_data.max())"
      ],
      "execution_count": null,
      "outputs": []
    },
    {
      "cell_type": "markdown",
      "metadata": {
        "id": "UEdbQcTDm1cU"
      },
      "source": [
        "We can also plot a number of samples from the data to get a feel for the waveform:"
      ]
    },
    {
      "cell_type": "code",
      "metadata": {
        "id": "KDBIqFVNm1cU"
      },
      "source": [
        "# IPython 'magic' command to set the matplotlib backend to display\n",
        "# in the notebook\n",
        "%matplotlib inline\n",
        "\n",
        "import matplotlib.pyplot as plt\n",
        "\n",
        "n_samples_to_plot = 300\n",
        "plt.plot(ekg_data[0:n_samples_to_plot])\n",
        "plt.xlabel(\"Sample number\")\n",
        "plt.ylabel(\"Signal value\")\n",
        "plt.show()"
      ],
      "execution_count": null,
      "outputs": []
    },
    {
      "cell_type": "markdown",
      "metadata": {
        "id": "ek2uMy6Lm1cU"
      },
      "source": [
        "Since we have rather a lot of data, we'll take just the first 8,000 samples so our examples will run a bit faster:"
      ]
    },
    {
      "cell_type": "code",
      "metadata": {
        "id": "ZHKpv_GUm1cU"
      },
      "source": [
        "ekg_data = ekg_data[0:8192]"
      ],
      "execution_count": null,
      "outputs": []
    },
    {
      "cell_type": "markdown",
      "metadata": {
        "id": "eqLO_ekdm1cU"
      },
      "source": [
        "## Windowing"
      ]
    },
    {
      "cell_type": "markdown",
      "metadata": {
        "id": "BD3LEqyOm1cU"
      },
      "source": [
        "The first step in our process is to split the waveform into overlapping segments, with the section of the original data sampled sliding along by two samples each time. We take this approach so that we get instances of each waveform shape with a variety of horizontal translations."
      ]
    },
    {
      "cell_type": "code",
      "metadata": {
        "id": "mrnQBW5Vm1cU"
      },
      "source": [
        "import numpy as np\n",
        "\n",
        "segment_len = 32\n",
        "slide_len = 2\n",
        "\n",
        "segments = []\n",
        "for start_pos in range(0, len(ekg_data), slide_len):\n",
        "    end_pos = start_pos + segment_len\n",
        "    # make a copy so changes to 'segments' doesn't modify the original ekg_data\n",
        "    segment = np.copy(ekg_data[start_pos:end_pos])\n",
        "    # if we're at the end and we've got a truncated segment, drop it\n",
        "    if len(segment) != segment_len:\n",
        "        continue\n",
        "    segments.append(segment)\n",
        "\n",
        "print(\"Produced %d waveform segments\" % len(segments))"
      ],
      "execution_count": null,
      "outputs": []
    },
    {
      "cell_type": "markdown",
      "metadata": {
        "id": "pz90R0hKm1cV"
      },
      "source": [
        "(This code is saved for later reuse in `learn_utils.sliding_chunker`.)"
      ]
    },
    {
      "cell_type": "markdown",
      "metadata": {
        "id": "ZzjjTcuDm1cV"
      },
      "source": [
        "Let's take a look at the segments we've produced:"
      ]
    },
    {
      "cell_type": "code",
      "metadata": {
        "id": "MAnBORHspOIy"
      },
      "source": [
        "#upload learn_utils.py file as costum module\n",
        "files.upload()"
      ],
      "execution_count": null,
      "outputs": []
    },
    {
      "cell_type": "code",
      "metadata": {
        "id": "2RATCZFSm1cV"
      },
      "source": [
        "import learn_utils\n",
        "\n",
        "learn_utils.plot_waves(segments, step=3)"
      ],
      "execution_count": null,
      "outputs": []
    },
    {
      "cell_type": "markdown",
      "metadata": {
        "id": "LljJFHtUm1cV"
      },
      "source": [
        "Note that these segments do not necessarily begin and end with a value of zero. This could be a problem later on: since the learned \"normal\" segment will then also have non-zero starts and end, when we try to reconstruct our waveform to be tested by adding together our learned segment, we'll end up with discontinuities.\n",
        "\n",
        "The way we avoid this problem is to apply a *window function* to the data, which forces the start and end to be zero. A simple window function we can apply is the first half of a sine wave:"
      ]
    },
    {
      "cell_type": "code",
      "metadata": {
        "id": "gquYW6FYm1cV"
      },
      "source": [
        "window_rads = np.linspace(0, np.pi, segment_len)\n",
        "window = np.sin(window_rads)**2\n",
        "plt.plot(window)\n",
        "plt.show()"
      ],
      "execution_count": null,
      "outputs": []
    },
    {
      "cell_type": "markdown",
      "metadata": {
        "id": "fFDsQYw-m1cV"
      },
      "source": [
        "We then multiply each segment by this window function:"
      ]
    },
    {
      "cell_type": "code",
      "metadata": {
        "id": "4onEetOWm1cV"
      },
      "source": [
        "windowed_segments = []\n",
        "for segment in segments:\n",
        "    windowed_segment = np.copy(segment) * window\n",
        "    windowed_segments.append(windowed_segment)"
      ],
      "execution_count": null,
      "outputs": []
    },
    {
      "cell_type": "markdown",
      "metadata": {
        "id": "cAXp8n67m1cV"
      },
      "source": [
        "Plotting the result, we see the difference that the windowing process makes. The segments are now flat at the start and end - perfect to be joined together later."
      ]
    },
    {
      "cell_type": "code",
      "metadata": {
        "id": "rd_QDjB3m1cV"
      },
      "source": [
        "learn_utils.plot_waves(windowed_segments, step=3)"
      ],
      "execution_count": null,
      "outputs": []
    },
    {
      "cell_type": "markdown",
      "metadata": {
        "id": "g2zlhHMem1cV"
      },
      "source": [
        "Note that windowing also has the effect of making the segments less affected by the waveform either side of the segment. The waveform shape represented by the segment is now more \"concentrated\" in the middle."
      ]
    },
    {
      "cell_type": "markdown",
      "metadata": {
        "id": "9-pn-7dJm1cV"
      },
      "source": [
        "## Clustering"
      ]
    },
    {
      "cell_type": "markdown",
      "metadata": {
        "id": "SXVc9Fexm1cV"
      },
      "source": [
        "Next, we cluster our waveform segments in 32-dimensional space. The k-means algorithm is provided by Python's *scikit-learn* library."
      ]
    },
    {
      "cell_type": "code",
      "metadata": {
        "id": "j5e834w7m1cW"
      },
      "source": [
        "from sklearn.cluster import KMeans\n",
        "\n",
        "clusterer = KMeans(n_clusters=150)\n",
        "clusterer.fit(windowed_segments)"
      ],
      "execution_count": null,
      "outputs": []
    },
    {
      "cell_type": "markdown",
      "metadata": {
        "id": "54g6XfsKm1cW"
      },
      "source": [
        "The cluster centroids are available through the `cluster_centers` attribute. Let's take a look to see what sort of shapes it's learned:"
      ]
    },
    {
      "cell_type": "code",
      "metadata": {
        "id": "KqrGtGOwm1cW"
      },
      "source": [
        "learn_utils.plot_waves(clusterer.cluster_centers_, step=15)"
      ],
      "execution_count": null,
      "outputs": []
    },
    {
      "cell_type": "markdown",
      "metadata": {
        "id": "lj4LYvv6m1cW"
      },
      "source": [
        "The clusterer appears to have learned a small number of basic shapes, with various horizontal translations. "
      ]
    },
    {
      "cell_type": "markdown",
      "metadata": {
        "id": "9w_1QKBSm1cW"
      },
      "source": [
        "## Reconstruction from Clusters"
      ]
    },
    {
      "cell_type": "markdown",
      "metadata": {
        "id": "zLkx6DE0m1cW"
      },
      "source": [
        "Finally, we come to the interesting part of the algorithm: reconstructing our waveform to be tested using the learned library of shapes. Our approach is going to be very simple. We'll:\n",
        "\n",
        "* Split the data into overlapping segments\n",
        "* Find the cluster centroid which best matches our segment\n",
        "* Use that centroid as the reconstruction for that segment\n",
        "* Join the reconstruction segments up to form the reconstruction\n",
        "\n",
        "This time, we only need enough overlap between segments to allow us to stitch the reconstructions back together again, so we'll go with an overlap of half a segment.\n",
        "\n",
        "First, let's see how well we do at reconstructing the original waveform. We first form segments:"
      ]
    },
    {
      "cell_type": "code",
      "metadata": {
        "id": "9kLYiMt7m1cW"
      },
      "source": [
        "slide_len = segment_len/2\n",
        "test_segments = learn_utils.sliding_chunker(\n",
        "    ekg_data,\n",
        "    window_len=segment_len,\n",
        "    slide_len=slide_len\n",
        ")"
      ],
      "execution_count": null,
      "outputs": []
    },
    {
      "cell_type": "markdown",
      "metadata": {
        "id": "G6ZuqoEjm1cW"
      },
      "source": [
        "Before trying to reconstruct the whole thing, we can check how the reconstruction fares for individual segments. Try changing the segment index to see the reconstruction for different segments."
      ]
    },
    {
      "cell_type": "code",
      "metadata": {
        "id": "YsfSIak4m1cW"
      },
      "source": [
        "centroids = clusterer.cluster_centers_\n",
        "\n",
        "segment = np.copy(test_segments[0])\n",
        "# remember, the clustering was set up using the windowed data\n",
        "# so to find a match, we should also window our search key\n",
        "windowed_segment = segment * window\n",
        "# predict() returns a list of centres to cope with the possibility of multiple\n",
        "# samples being passed\n",
        "nearest_centroid_idx = clusterer.predict(windowed_segment.reshape(1, -1))[0]\n",
        "nearest_centroid = np.copy(centroids[nearest_centroid_idx])\n",
        "plt.figure()\n",
        "plt.plot(segment, label=\"Original segment\")\n",
        "plt.plot(windowed_segment, label=\"Windowed segment\")\n",
        "plt.plot(nearest_centroid, label=\"Nearest centroid\")\n",
        "plt.legend()\n",
        "plt.show()"
      ],
      "execution_count": null,
      "outputs": []
    },
    {
      "cell_type": "markdown",
      "metadata": {
        "id": "BgRrTOsKm1cW"
      },
      "source": [
        "Looking good! So now, let's go ahead and try and reconstruct the full set of data."
      ]
    },
    {
      "cell_type": "code",
      "metadata": {
        "id": "pFn_VpKTm1cW"
      },
      "source": [
        "reconstruction = np.zeros(len(ekg_data))\n",
        "slide_len = segment_len/2\n",
        "\n",
        "for segment_n, segment in enumerate(test_segments):\n",
        "    # don't modify the data in segments\n",
        "    segment = np.copy(segment)\n",
        "    segment *= window\n",
        "    nearest_centroid_idx = clusterer.predict(segment.reshape(1, -1))[0]\n",
        "    centroids = clusterer.cluster_centers_\n",
        "    nearest_centroid = np.copy(centroids[nearest_centroid_idx])\n",
        "    \n",
        "    # overlay our reconstructed segments with an overlap of half a segment\n",
        "    pos = segment_n * slide_len\n",
        "    reconstruction[pos:pos+segment_len] += nearest_centroid\n",
        "\n",
        "n_plot_samples = 300\n",
        "\n",
        "error = reconstruction[0:n_plot_samples] - ekg_data[0:n_plot_samples]\n",
        "error_98th_percentile = np.percentile(error, 98)\n",
        "print(\"Maximum reconstruction error was %.1f\" % error.max())\n",
        "print(\"98th percentile of reconstruction error was %.1f\" % error_98th_percentile)\n",
        "\n",
        "plt.plot(ekg_data[0:n_plot_samples], label=\"Original EKG\")\n",
        "plt.plot(reconstruction[0:n_plot_samples], label=\"Reconstructed EKG\")\n",
        "plt.plot(error[0:n_plot_samples], label=\"Reconstruction Error\")\n",
        "plt.legend()\n",
        "plt.show()"
      ],
      "execution_count": null,
      "outputs": []
    },
    {
      "cell_type": "markdown",
      "metadata": {
        "id": "KmYbxg4Cm1cW"
      },
      "source": [
        "(This reconstruction code is stored in `learn_utils.reconstruct` for later reuse.)\n",
        "\n",
        "The reconstruction is not bad at all!"
      ]
    },
    {
      "cell_type": "markdown",
      "metadata": {
        "id": "7StgFKfym1cW"
      },
      "source": [
        "## Anomaly Detection"
      ]
    },
    {
      "cell_type": "markdown",
      "metadata": {
        "id": "VaixS1j6m1cW"
      },
      "source": [
        "Now that we're confident in our reconstruction algorithm, let's see what happens when we have an anomalous waveform. We'll introduce the anomaly manually by zeroing out a small number of samples of the original:"
      ]
    },
    {
      "cell_type": "code",
      "metadata": {
        "id": "GSfBVMPNm1cW"
      },
      "source": [
        "ekg_data_anomalous = np.copy(ekg_data)\n",
        "ekg_data_anomalous[210:215] = 0"
      ],
      "execution_count": null,
      "outputs": []
    },
    {
      "cell_type": "markdown",
      "metadata": {
        "id": "IQaItgJsm1cW"
      },
      "source": [
        "Then attempting a reconstruction of this data, using the same code as above:"
      ]
    },
    {
      "cell_type": "code",
      "metadata": {
        "id": "2kLv8Mq4m1cW"
      },
      "source": [
        "recontruction =learn_utils.reconstruct(ekg_data_anomalous.reshape(1, -1), window, clusterer)\n",
        "    \n",
        "error = reconstruction[0:n_plot_samples] - ekg_data_anomalous[0:n_plot_samples]\n",
        "error_98th_percentile = np.percentile(error, 98)\n",
        "print(\"Maximum reconstruction error was %.1f\" % error.max())\n",
        "print(\"98th percentile of reconstruction error was %.1f\" % error_98th_percentile)\n",
        "\n",
        "plt.plot(ekg_data_anomalous[0:n_plot_samples], label=\"Original EKG\")\n",
        "plt.plot(reconstruction[0:n_plot_samples], label=\"Reconstructed EKG\")\n",
        "plt.plot(error[0:n_plot_samples], label=\"Reconstruction Error\")\n",
        "plt.legend()\n",
        "plt.show()"
      ],
      "execution_count": null,
      "outputs": []
    },
    {
      "cell_type": "markdown",
      "metadata": {
        "id": "12yPL4rbm1cX"
      },
      "source": [
        "Since our anomaly has produced a shape in the waveform that hadn't been seen before, the waveform around that point couldn't be reconstructed using the learned shape library. This gives a large, easily visible reconstruction error! This error could be easily detected using a simple threshold detector."
      ]
    },
    {
      "cell_type": "markdown",
      "metadata": {
        "id": "CNNFuOjhm1cX"
      },
      "source": [
        "## Conclusion"
      ]
    },
    {
      "cell_type": "markdown",
      "metadata": {
        "id": "MM2a8ZAXm1cX"
      },
      "source": [
        "We've looked at one example of the use of unsupervised learning techniques in systems administration: anomaly detection of time series data based on reconstruction error from k-means clustering.\n",
        "\n",
        "This problem could have been solved in different ways. For example, we could have trained a predictive neural network model, and examined the difference between the predicted waveform and the actual waveform. In general, there is no 'one size fits all' solution in machine learning - different techniques will be required for different problems.\n",
        "\n",
        "A standalone script containing our full set of code is available in this repository as `learn.py`."
      ]
    },
    {
      "cell_type": "code",
      "metadata": {
        "id": "h76rywazxlR3"
      },
      "source": [
        ""
      ],
      "execution_count": null,
      "outputs": []
    }
  ]
}